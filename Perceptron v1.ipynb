{
 "cells": [
  {
   "cell_type": "code",
   "execution_count": 1,
   "id": "249d715b",
   "metadata": {},
   "outputs": [],
   "source": [
    "import numpy as np\n",
    "import matplotlib.pyplot as plt"
   ]
  },
  {
   "cell_type": "markdown",
   "id": "ab3670db",
   "metadata": {},
   "source": [
    "# Perceptron"
   ]
  },
  {
   "cell_type": "code",
   "execution_count": 2,
   "id": "22b8d355",
   "metadata": {},
   "outputs": [],
   "source": [
    "def is_np_array(a):\n",
    "    return type(a) is np.ndarray\n",
    "\n",
    "def dot(a, b):\n",
    "    assert(is_np_array(a))\n",
    "    assert(is_np_array(b))\n",
    "    assert(a.shape == b.shape)\n",
    "    return np.sum(a*b)\n",
    "\n",
    "def sign(a):\n",
    "    return 1 if a >= 0 else -1\n",
    "\n",
    "def feature_vector(w, b):\n",
    "    return np.append(w,b)\n",
    "\n",
    "def input_vector(xi):\n",
    "    return np.append(xi,1)\n",
    "\n",
    "def w_dot_xi(w,xi,b):\n",
    "    return dot(feature_vector(w,b),input_vector(xi))\n",
    "    \n",
    "def h(w, xi, b):\n",
    "    return sign(w_dot_xi(w, xi, b))\n",
    "\n",
    "def is_xi_classified_correctly(yi, w, xi, b):\n",
    "    assert (yi == -1 or yi == 1)\n",
    "    return yi * w_dot_xi(w, xi, b) > 0"
   ]
  },
  {
   "cell_type": "markdown",
   "id": "f480739e",
   "metadata": {},
   "source": [
    "## Dataset"
   ]
  },
  {
   "cell_type": "code",
   "execution_count": 3,
   "id": "2c0a3256",
   "metadata": {},
   "outputs": [],
   "source": [
    "class Dataset:\n",
    "    def __init__(self, x_data, y_data):\n",
    "        self.x = x_data\n",
    "        self.y = y_data\n",
    "\n",
    "def get_rand_sign():\n",
    "    return 1 if np.random.rand() >= 0.5 else -1\n",
    "\n",
    "def generate_random_dataset(num_features, data_size):\n",
    "    w_ans = np.random.rand(num_features)\n",
    "    b = np.random.rand() * 10 * get_rand_sign()\n",
    "    x = np.zeros((data_size, num_features))\n",
    "    y = np.zeros(data_size)\n",
    "    for i in range(data_size):\n",
    "        sign = -1 if i < data_size/2 else 1\n",
    "        threshold = -b/w_ans\n",
    "        if sign > 0:\n",
    "            x[i] = threshold + np.random.rand(num_features) * 10\n",
    "        else:\n",
    "            x[i] = threshold - np.random.rand(num_features) * 10\n",
    "        y[i] = h(w_ans, x[i], b)\n",
    "        \n",
    "        assert(is_xi_classified_correctly(yi=y[i], w=w_ans, xi=x[i], b=b))\n",
    "    return Dataset(x_data=x, y_data=y)\n",
    "\n",
    "def shuffle_dataset(dataset):\n",
    "    assert(dataset.x.shape[0] == dataset.y.shape[0])\n",
    "    data = np.append(dataset.x, dataset.y.reshape(dataset.y.shape[0],1), axis=1)\n",
    "    assert(data.shape == (dataset.x.shape[0], dataset.x.shape[1] + 1))\n",
    "    np.random.shuffle(data)\n",
    "    return Dataset(x_data=data[:,:-1], y_data=data[:,-1])\n",
    "\n",
    "def split_train_test(split, x, y):\n",
    "    assert(x.shape[0] == y.shape[0])\n",
    "    l = int(x.shape[0] * split)\n",
    "    x_train, y_train, x_test, y_test = x[:l], y[:l], x[l:], y[l:]\n",
    "    assert(x_train.shape[0] == y_train.shape[0])\n",
    "    assert(x_test.shape[0] == y_test.shape[0])\n",
    "    return Dataset(x_data=x_train, y_data=y_train), Dataset(x_data=x_test, y_data=y_test)"
   ]
  },
  {
   "cell_type": "code",
   "execution_count": 4,
   "id": "85fcd5c9",
   "metadata": {},
   "outputs": [
    {
     "data": {
      "text/plain": [
       "(array([[-31.45068297],\n",
       "        [-32.8297393 ],\n",
       "        [-18.13971974],\n",
       "        [-26.74349819],\n",
       "        [-27.67561851],\n",
       "        [-16.70312427],\n",
       "        [-33.28402319],\n",
       "        [-26.80044297],\n",
       "        [-17.84066775],\n",
       "        [-17.93222076],\n",
       "        [-33.13345936],\n",
       "        [-29.94154368],\n",
       "        [-29.9477989 ],\n",
       "        [-34.10483191],\n",
       "        [-20.06501338],\n",
       "        [-20.27752508],\n",
       "        [-18.47556014],\n",
       "        [-29.67029615],\n",
       "        [-24.50232919],\n",
       "        [-32.09168389],\n",
       "        [-20.98958505],\n",
       "        [-25.68661987],\n",
       "        [-19.77543711],\n",
       "        [-31.43445966],\n",
       "        [-31.44632879],\n",
       "        [-31.72589787],\n",
       "        [-18.21070442],\n",
       "        [-16.45880829],\n",
       "        [-16.34272003],\n",
       "        [-22.89722373],\n",
       "        [-31.28585067],\n",
       "        [-21.79976183],\n",
       "        [-33.56951489],\n",
       "        [-21.84301572],\n",
       "        [-19.18946833],\n",
       "        [-28.62163081],\n",
       "        [-21.46975992],\n",
       "        [-21.22891797],\n",
       "        [-28.68830122],\n",
       "        [-16.70919725],\n",
       "        [-19.20330633],\n",
       "        [-22.53047437],\n",
       "        [-31.64946929],\n",
       "        [-30.67453568],\n",
       "        [-16.8567794 ],\n",
       "        [-23.99114955],\n",
       "        [-27.61710719],\n",
       "        [-29.95119869],\n",
       "        [-32.43462529],\n",
       "        [-24.6199246 ],\n",
       "        [-20.1346809 ],\n",
       "        [-22.23280239],\n",
       "        [-22.08119513],\n",
       "        [-33.56503954],\n",
       "        [-34.47954374],\n",
       "        [-35.45285465],\n",
       "        [-18.69220797],\n",
       "        [-16.56293168],\n",
       "        [-19.39560269],\n",
       "        [-35.01335722],\n",
       "        [-29.53337363],\n",
       "        [-23.11127123],\n",
       "        [-18.68192792],\n",
       "        [-22.73109402],\n",
       "        [-24.33592985],\n",
       "        [-25.26152984],\n",
       "        [-20.10266408],\n",
       "        [-33.96368616],\n",
       "        [-32.81599378],\n",
       "        [-27.64418585]]),\n",
       " array([-1., -1.,  1., -1., -1.,  1., -1., -1.,  1.,  1., -1., -1., -1.,\n",
       "        -1.,  1.,  1.,  1., -1.,  1., -1.,  1.,  1.,  1., -1., -1., -1.,\n",
       "         1.,  1.,  1.,  1., -1.,  1., -1.,  1.,  1., -1.,  1.,  1., -1.,\n",
       "         1.,  1.,  1., -1., -1.,  1.,  1., -1., -1., -1.,  1.,  1.,  1.,\n",
       "         1., -1., -1., -1.,  1.,  1.,  1., -1., -1.,  1.,  1.,  1.,  1.,\n",
       "         1.,  1., -1., -1., -1.]),\n",
       " array([[-31.8039302 ],\n",
       "        [-25.61250741],\n",
       "        [-20.54786731],\n",
       "        [-16.78826917],\n",
       "        [-26.49406794],\n",
       "        [-25.93826833],\n",
       "        [-20.94265041],\n",
       "        [-30.87633457],\n",
       "        [-26.78778253],\n",
       "        [-16.61388811],\n",
       "        [-19.60195317],\n",
       "        [-31.55713617],\n",
       "        [-33.24015023],\n",
       "        [-25.8981892 ],\n",
       "        [-26.77532727],\n",
       "        [-24.54605459],\n",
       "        [-30.78339844],\n",
       "        [-33.82436837],\n",
       "        [-28.61514141],\n",
       "        [-30.24097584],\n",
       "        [-31.20442872],\n",
       "        [-30.37918924],\n",
       "        [-18.61548739],\n",
       "        [-22.68111321],\n",
       "        [-31.20413671],\n",
       "        [-18.28647476],\n",
       "        [-31.92241471],\n",
       "        [-26.64158971],\n",
       "        [-33.42005244],\n",
       "        [-31.75333959]]),\n",
       " array([-1.,  1.,  1.,  1., -1.,  1.,  1., -1., -1.,  1.,  1., -1., -1.,\n",
       "         1., -1.,  1., -1., -1., -1., -1., -1., -1.,  1.,  1., -1.,  1.,\n",
       "        -1., -1., -1., -1.]))"
      ]
     },
     "execution_count": 4,
     "metadata": {},
     "output_type": "execute_result"
    }
   ],
   "source": [
    "num_features = 1\n",
    "dataset_size = 150\n",
    "dataset = generate_random_dataset(num_features, dataset_size)\n",
    "dataset = shuffle_dataset(dataset)\n",
    "train_dataset, test_dataset = split_train_test(0.7, dataset.x, dataset.y)\n",
    "train_dataset.x, train_dataset.y, test_dataset.x, test_dataset.y"
   ]
  },
  {
   "cell_type": "markdown",
   "id": "1f8ef2f2",
   "metadata": {},
   "source": [
    "## Algorithm"
   ]
  },
  {
   "cell_type": "code",
   "execution_count": 5,
   "id": "2af37314",
   "metadata": {
    "scrolled": true
   },
   "outputs": [
    {
     "name": "stdout",
     "output_type": "stream",
     "text": [
      "m=35\n",
      "m=33\n",
      "m=31\n",
      "m=31\n",
      "m=31\n",
      "m=31\n",
      "m=31\n",
      "m=24\n",
      "m=11\n",
      "m=34\n",
      "m=27\n",
      "m=34\n",
      "m=28\n",
      "m=34\n",
      "m=31\n",
      "m=31\n",
      "m=31\n",
      "m=31\n",
      "m=31\n",
      "m=31\n",
      "m=24\n",
      "m=15\n",
      "m=31\n",
      "m=21\n",
      "m=31\n",
      "m=31\n",
      "m=31\n",
      "m=23\n",
      "m=30\n",
      "m=26\n",
      "m=30\n",
      "m=18\n",
      "m=7\n"
     ]
    }
   ],
   "source": [
    "class TrainedWeights:\n",
    "    def __init__(self, w, b):\n",
    "        self.W = w\n",
    "        self.B = b\n",
    "    \n",
    "def train(X,Y):\n",
    "    W = np.zeros(num_features)\n",
    "    B = 0\n",
    "    while True:\n",
    "        m = 0\n",
    "        for i in range(X.shape[0]):\n",
    "            xi = X[i]\n",
    "            yi = Y[i]\n",
    "            if not is_xi_classified_correctly(yi=yi,xi=xi,w=W,b=B):\n",
    "                w = feature_vector(W,B)\n",
    "                x = input_vector(xi)\n",
    "                w = w + yi * x\n",
    "                W = w[:-1]\n",
    "                B = w[-1]\n",
    "                m = m + 1\n",
    "        if m == 0:\n",
    "            break\n",
    "        print(f\"m={m}\")\n",
    "    return TrainedWeights(w=W, b=B)\n",
    "        \n",
    "def count_incorrect(X,Y,W,B):\n",
    "    count = 0\n",
    "    for i in range(X.shape[0]):\n",
    "        xi = X[i]\n",
    "        yi = Y[i]\n",
    "        if not is_xi_classified_correctly(yi=yi,xi=xi,w=W,b=B):\n",
    "            count += 1\n",
    "    return count\n",
    "        \n",
    "trainedWeights = train(train_dataset.x, train_dataset.y)\n",
    "num_incorrect_after_training = count_incorrect(train_dataset.x, train_dataset.y, trainedWeights.W, trainedWeights.B)\n",
    "assert(num_incorrect_after_training == 0)"
   ]
  },
  {
   "cell_type": "markdown",
   "id": "ce10770b",
   "metadata": {},
   "source": [
    "## Visualization of Training Data"
   ]
  },
  {
   "cell_type": "code",
   "execution_count": 6,
   "id": "951d4d51",
   "metadata": {},
   "outputs": [],
   "source": [
    "def plot_line(trainedWeights, dataset):\n",
    "    w = trainedWeights.W\n",
    "    b = trainedWeights.B\n",
    "    r = max(abs(dataset.x))\n",
    "    x = np.arange(-r, r)\n",
    "#     y = -w[0]/w[1] * x - b\n",
    "#     y = np.zeros(x.shape[0])\n",
    "#     for i,xi in enumerate(range(y.shape[0])):\n",
    "#         y[i] = w_dot_xi(w,xi,b)\n",
    "    y = w[0] * x + b\n",
    "    plt.plot(x,y)\n",
    "def plot_data(data_x, data_y):\n",
    "    x_pos = data_x[data_y > 0]\n",
    "    y_pos = data_y[data_y > 0]\n",
    "    x_neg = data_x[data_y < 0]\n",
    "    y_neg = data_y[data_y < 0]\n",
    "    plt.scatter(x_pos[:,0], np.ones(x_pos.shape[0]), c='coral')\n",
    "    plt.scatter(x_neg[:,0], np.ones(x_neg.shape[0]), c='lightblue')"
   ]
  },
  {
   "cell_type": "code",
   "execution_count": 7,
   "id": "f700a29e",
   "metadata": {},
   "outputs": [
    {
     "data": {
      "image/png": "[encoded data removed]",
      "text/plain": [
       "<Figure size 432x288 with 1 Axes>"
      ]
     },
     "metadata": {
      "needs_background": "light"
     },
     "output_type": "display_data"
    }
   ],
   "source": [
    "plot_data(train_dataset.x, train_dataset.y)\n",
    "plot_line(trainedWeights, train_dataset)"
   ]
  },
  {
   "cell_type": "markdown",
   "id": "5218b1a1",
   "metadata": {},
   "source": [
    "## Visualization of Test Data"
   ]
  },
  {
   "cell_type": "code",
   "execution_count": 12,
   "id": "1209c042",
   "metadata": {},
   "outputs": [],
   "source": [
    "def test(test_data, W, B):\n",
    "    incorrect = 0\n",
    "    for i,xi in enumerate(test_data.x):\n",
    "        yi_true = test_data.y[i]\n",
    "        if not is_xi_classified_correctly(yi_true, W, xi, B):\n",
    "            incorrect += 1\n",
    "    return incorrect"
   ]
  },
  {
   "cell_type": "code",
   "execution_count": 13,
   "id": "ac478d2d",
   "metadata": {},
   "outputs": [
    {
     "data": {
      "text/plain": [
       "1"
      ]
     },
     "execution_count": 13,
     "metadata": {},
     "output_type": "execute_result"
    }
   ],
   "source": [
    "test(test_dataset, trainedWeights.W, trainedWeights.B)"
   ]
  },
  {
   "cell_type": "code",
   "execution_count": 14,
   "id": "58c1e31c",
   "metadata": {},
   "outputs": [
    {
     "data": {
      "image/png": "[encoded data removed]",
      "text/plain": [
       "<Figure size 432x288 with 1 Axes>"
      ]
     },
     "metadata": {
      "needs_background": "light"
     },
     "output_type": "display_data"
    }
   ],
   "source": [
    "plot_data(test_dataset.x, test_dataset.y)\n",
    "plot_line(trainedWeights, test_dataset)"
   ]
  },
  {
   "cell_type": "code",
   "execution_count": null,
   "id": "6db391e3",
   "metadata": {},
   "outputs": [],
   "source": []
  }
 ],
 "metadata": {
  "kernelspec": {
   "display_name": "Python 3 (ipykernel)",
   "language": "python",
   "name": "python3"
  },
  "language_info": {
   "codemirror_mode": {
    "name": "ipython",
    "version": 3
   },
   "file_extension": ".py",
   "mimetype": "text/x-python",
   "name": "python",
   "nbconvert_exporter": "python",
   "pygments_lexer": "ipython3",
   "version": "3.10.5"
  }
 },
 "nbformat": 4,
 "nbformat_minor": 5
}
